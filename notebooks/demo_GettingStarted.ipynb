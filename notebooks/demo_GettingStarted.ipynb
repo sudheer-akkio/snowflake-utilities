{
 "cells": [
  {
   "cell_type": "code",
   "execution_count": 16,
   "metadata": {},
   "outputs": [],
   "source": [
    "# Setup\n",
    "import os\n",
    "import sys\n",
    "sys.path.append('..')\n",
    "\n",
    "from src import SnowflakeConnector as snow"
   ]
  },
  {
   "cell_type": "code",
   "execution_count": 20,
   "metadata": {},
   "outputs": [],
   "source": [
    "# Define input parameters\n",
    "account = \"pnb55073.us-east-1\"\n",
    "user = \"sudheer\"\n",
    "password = os.getenv(\"SNOWSQL_PWD\") # I recommend not hardcoding your pass\n",
    "\n",
    "database = \"sudheer_demo\"\n",
    "schema = \"public\" # leave schema as public by default, unless you want to create a new schema\n",
    "table = \"test_table\"\n",
    "\n",
    "# Define relative or absolute path to file\n",
    "filename = \"../data/customer_data.csv\"\n",
    "\n",
    "# Construct connector object and set attributes\n",
    "obj = snow.SnowflakeConnector(account, user, password)\n",
    "\n",
    "obj.database = database\n",
    "obj.schema = schema\n",
    "obj.table = table\n",
    "obj.filename = filename"
   ]
  },
  {
   "cell_type": "code",
   "execution_count": 21,
   "metadata": {},
   "outputs": [],
   "source": [
    "# Setup connection, wareshouse, role, database, and schema\n",
    "obj.setup()"
   ]
  },
  {
   "cell_type": "code",
   "execution_count": 22,
   "metadata": {},
   "outputs": [
    {
     "name": "stdout",
     "output_type": "stream",
     "text": [
      "Importing data...\n",
      "Completed!\n",
      "\n"
     ]
    }
   ],
   "source": [
    "# Import data from disk\n",
    "obj.import_data()"
   ]
  },
  {
   "cell_type": "code",
   "execution_count": 23,
   "metadata": {},
   "outputs": [
    {
     "name": "stdout",
     "output_type": "stream",
     "text": [
      "Creating table...\n",
      "Completed!\n",
      "\n"
     ]
    }
   ],
   "source": [
    "# Create table in snowflake\n",
    "obj.create_table()"
   ]
  }
 ],
 "metadata": {
  "kernelspec": {
   "display_name": "base",
   "language": "python",
   "name": "python3"
  },
  "language_info": {
   "codemirror_mode": {
    "name": "ipython",
    "version": 3
   },
   "file_extension": ".py",
   "mimetype": "text/x-python",
   "name": "python",
   "nbconvert_exporter": "python",
   "pygments_lexer": "ipython3",
   "version": "3.10.9"
  },
  "orig_nbformat": 4
 },
 "nbformat": 4,
 "nbformat_minor": 2
}
