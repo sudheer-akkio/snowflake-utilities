{
 "cells": [
  {
   "cell_type": "code",
   "execution_count": 1,
   "metadata": {},
   "outputs": [],
   "source": [
    "# Setup\n",
    "import os\n",
    "import sys\n",
    "sys.path.append('..')\n",
    "\n",
    "import pandas as pd\n",
    "\n",
    "from src import SnowflakeConnector as snow\n",
    "from src import utils as snow_utils"
   ]
  },
  {
   "cell_type": "code",
   "execution_count": 2,
   "metadata": {},
   "outputs": [],
   "source": [
    "# Define input parameters\n",
    "account = \"pnb55073.us-east-1\"\n",
    "user = \"sudheer\"\n",
    "password = os.getenv(\"SNOWSQL_PWD\") # I recommend not hardcoding your pass\n",
    "\n",
    "database = \"sudheer_demo\"\n",
    "schema = \"public\" # leave schema as public by default, unless you want to create a new schema\n",
    "\n",
    "# Construct connector object and set attributes\n",
    "obj = snow.SnowflakeConnector(account, user, password)\n",
    "\n",
    "obj.database = database\n",
    "obj.schema = schema"
   ]
  },
  {
   "cell_type": "code",
   "execution_count": 3,
   "metadata": {},
   "outputs": [],
   "source": [
    "# Setup connection, wareshouse, role, database, and schema\n",
    "obj.setup()"
   ]
  },
  {
   "cell_type": "code",
   "execution_count": 4,
   "metadata": {},
   "outputs": [
    {
     "name": "stdout",
     "output_type": "stream",
     "text": [
      "No. of training examples: 1012\n",
      "No. of testing examples: 113\n"
     ]
    }
   ],
   "source": [
    "# (Optional) Partition data into training and test\n",
    "filename = \"/Users/snuggeha/Documents/Internal-Demos/snowflake-utilities/data/customer_data.csv\"\n",
    "output_folder = \"/Users/snuggeha/Documents/Internal-Demos/snowflake-utilities/data\"\n",
    "\n",
    "snow_utils.partition_data(filename, output_folder, test_partition=0.1)"
   ]
  },
  {
   "cell_type": "code",
   "execution_count": 5,
   "metadata": {},
   "outputs": [
    {
     "name": "stdout",
     "output_type": "stream",
     "text": [
      "Importing data...\n",
      "Completed!\n",
      "\n"
     ]
    }
   ],
   "source": [
    "# Import data from disk\n",
    "\n",
    "train_filename = \"/Users/snuggeha/Documents/Internal-Demos/snowflake-utilities/data/customer_data.csv\"\n",
    "\n",
    "obj.filename = train_filename\n",
    "obj.import_data()"
   ]
  },
  {
   "cell_type": "code",
   "execution_count": 6,
   "metadata": {},
   "outputs": [],
   "source": [
    "# Create table in snowflake\n",
    "\n",
    "# Define table name\n",
    "obj.table = \"test_table_train\"\n",
    "\n",
    "# obj.create_table()"
   ]
  },
  {
   "cell_type": "code",
   "execution_count": 9,
   "metadata": {},
   "outputs": [],
   "source": [
    "# Insert rows into existing table\n",
    "new_entries = \"/Users/snuggeha/Documents/Internal-Demos/snowflake-utilities/data/customer_data-test.csv\"\n",
    "\n",
    "df = pd.read_csv(new_entries, index_col=False)\n",
    "\n",
    "obj.add_rows(df)"
   ]
  },
  {
   "cell_type": "code",
   "execution_count": 8,
   "metadata": {},
   "outputs": [],
   "source": [
    "# Delete rows from existing table\n",
    "# obj.delete_rows()"
   ]
  }
 ],
 "metadata": {
  "kernelspec": {
   "display_name": "base",
   "language": "python",
   "name": "python3"
  },
  "language_info": {
   "codemirror_mode": {
    "name": "ipython",
    "version": 3
   },
   "file_extension": ".py",
   "mimetype": "text/x-python",
   "name": "python",
   "nbconvert_exporter": "python",
   "pygments_lexer": "ipython3",
   "version": "3.10.9"
  },
  "orig_nbformat": 4
 },
 "nbformat": 4,
 "nbformat_minor": 2
}
