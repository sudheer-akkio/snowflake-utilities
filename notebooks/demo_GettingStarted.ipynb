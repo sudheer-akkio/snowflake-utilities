{
 "cells": [
  {
   "cell_type": "code",
   "execution_count": 1,
   "metadata": {},
   "outputs": [],
   "source": [
    "# Setup\n",
    "import os\n",
    "import sys\n",
    "sys.path.append('..')\n",
    "\n",
    "import pandas as pd\n",
    "\n",
    "from src import SnowflakeConnector as snow\n",
    "from src import utils as snow_utils"
   ]
  },
  {
   "cell_type": "code",
   "execution_count": 8,
   "metadata": {},
   "outputs": [
    {
     "name": "stdout",
     "output_type": "stream",
     "text": [
      "Closing connection!\n",
      "\n"
     ]
    }
   ],
   "source": [
    "# Define input parameters\n",
    "account = \"pnb55073.us-east-1\"\n",
    "user = \"sudheer\"\n",
    "password = os.getenv(\"SNOWSQL_PWD\") # I recommend not hardcoding your pass\n",
    "\n",
    "database = \"sudheer_demo\"\n",
    "schema = \"public\" # leave schema as public by default, unless you want to create a new schema\n",
    "\n",
    "# Construct connector object and set attributes\n",
    "obj = snow.SnowflakeConnector(account, user, password)\n",
    "\n",
    "obj.database = database\n",
    "obj.schema = schema"
   ]
  },
  {
   "cell_type": "code",
   "execution_count": 9,
   "metadata": {},
   "outputs": [],
   "source": [
    "# Setup connection, wareshouse, role, database, and schema\n",
    "obj.setup()"
   ]
  },
  {
   "cell_type": "code",
   "execution_count": 16,
   "metadata": {},
   "outputs": [
    {
     "name": "stdout",
     "output_type": "stream",
     "text": [
      "No. of training examples: 1323\n",
      "No. of testing examples: 147\n"
     ]
    }
   ],
   "source": [
    "# (Optional) Partition data into training and test\n",
    "filename = \"../data/EmployeeAttritionTrain.csv\"\n",
    "output_folder = \"../data\"\n",
    "\n",
    "snow_utils.partition_data(filename, output_folder, test_partition=0.1)\n",
    "\n",
    "# Partition Time-Series\n",
    "\n",
    "# filename = \"../data/DR_Demo_Sales_Multiseries.csv\"\n",
    "\n",
    "# partition_time_series(filename, \"Date\", \"Sales\")"
   ]
  },
  {
   "cell_type": "code",
   "execution_count": 19,
   "metadata": {},
   "outputs": [
    {
     "name": "stdout",
     "output_type": "stream",
     "text": [
      "Importing data...\n",
      "Completed!\n",
      "\n"
     ]
    }
   ],
   "source": [
    "# Import data from disk\n",
    "\n",
    "filename = \"../data/EmployeeAttritionTrain-test.csv\"\n",
    "\n",
    "obj.filename = filename\n",
    "obj.import_data()"
   ]
  },
  {
   "cell_type": "code",
   "execution_count": 20,
   "metadata": {},
   "outputs": [
    {
     "name": "stdout",
     "output_type": "stream",
     "text": [
      "Creating table...\n",
      "Completed!\n",
      "\n",
      "Adding rows...\n",
      "Completed!\n",
      "\n"
     ]
    }
   ],
   "source": [
    "# Create table and load data in snowflake\n",
    "\n",
    "# Define table name\n",
    "obj.table = \"employee_attrition_test\" # Recommend using \"_\" in table name\n",
    "\n",
    "# Create empty table with table definition based on input dataframe\n",
    "obj.create_table()\n",
    "\n",
    "# Add all input data into the table\n",
    "obj.add_rows()"
   ]
  },
  {
   "cell_type": "code",
   "execution_count": null,
   "metadata": {},
   "outputs": [],
   "source": [
    "# Insert new rows into existing table\n",
    "new_entries = \"/Users/snuggeha/Documents/Internal-Demos/snowflake-utilities/data/customer_data-test.csv\"\n",
    "\n",
    "obj.filename = new_entries\n",
    "\n",
    "# Import new data\n",
    "obj.import_data()\n",
    "\n",
    "# Add new rows\n",
    "obj.add_rows()"
   ]
  },
  {
   "cell_type": "code",
   "execution_count": null,
   "metadata": {},
   "outputs": [],
   "source": [
    "# Delete table but keeps table schema intact\n",
    "obj.delete_table()"
   ]
  }
 ],
 "metadata": {
  "kernelspec": {
   "display_name": "base",
   "language": "python",
   "name": "python3"
  },
  "language_info": {
   "codemirror_mode": {
    "name": "ipython",
    "version": 3
   },
   "file_extension": ".py",
   "mimetype": "text/x-python",
   "name": "python",
   "nbconvert_exporter": "python",
   "pygments_lexer": "ipython3",
   "version": "3.10.9"
  },
  "orig_nbformat": 4
 },
 "nbformat": 4,
 "nbformat_minor": 2
}
